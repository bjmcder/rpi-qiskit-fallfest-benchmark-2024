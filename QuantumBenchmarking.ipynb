{
 "cells": [
  {
   "cell_type": "markdown",
   "id": "1942c506-6a86-4299-890b-c5d8d3ccaaef",
   "metadata": {},
   "source": [
    "# Qiskit Fall Fest 2024 - Quantum Benchmarking Experiments"
   ]
  },
  {
   "cell_type": "code",
   "execution_count": null,
   "id": "ae421d59-733f-4de6-82fc-c52e2294cff9",
   "metadata": {},
   "outputs": [],
   "source": [
    "# Uncoment to install the libraries we need\n",
    "# %pip install numpy matplotlib\n",
    "# %pip install qiskit[visualization] qiskit_ibm_runtime qiskit-experiments --upgrade"
   ]
  },
  {
   "cell_type": "code",
   "execution_count": null,
   "id": "d7fc8950-73d1-44f0-960c-c8cb35c43dd6",
   "metadata": {},
   "outputs": [],
   "source": [
    "import numpy as np\n",
    "import qiskit as qs\n",
    "import qiskit_ibm_runtime as ibm\n",
    "\n",
    "import rustworkx as rx\n",
    "import matplotlib.pyplot as plt\n",
    "\n",
    "from qiskit_experiments.framework import ParallelExperiment\n",
    "\n",
    "# Modules Needed for experiments\n",
    "from qiskit_experiments.library import T1, T2Ramsey, T2Hahn, Tphi, StandardRB\n",
    "from qiskit_experiments.library.randomized_benchmarking import LayerFidelity"
   ]
  },
  {
   "cell_type": "code",
   "execution_count": null,
   "id": "ba68f04a-1df1-41bd-8a16-4b377d41c1b6",
   "metadata": {},
   "outputs": [],
   "source": [
    "service = ibm.QiskitRuntimeService()\n",
    "\n",
    "# Select backend\n",
    "backend = service.backend(\"ibm_rensselaer\")\n",
    "\n",
    "twoq_gate = \"ecr\"\n",
    "print(f\"Device {backend.name} Loaded with {backend.num_qubits} qubits\")\n",
    "print(f\"Two Qubit Gate: {twoq_gate}\")"
   ]
  },
  {
   "cell_type": "markdown",
   "id": "731ce1b3-6f83-46c1-b0a8-ca3024d7b2f8",
   "metadata": {},
   "source": [
    "## Coherence Times"
   ]
  },
  {
   "cell_type": "markdown",
   "id": "927eb31d-6967-4eae-897b-1c53bb963567",
   "metadata": {},
   "source": [
    "## $T_1$ Characterization"
   ]
  },
  {
   "cell_type": "code",
   "execution_count": null,
   "id": "1fad8648-f0ae-4016-8358-667ba969788f",
   "metadata": {},
   "outputs": [],
   "source": [
    "t1_delays = np.linspace(0.0, 500.0, 26)*1e-6\n",
    "t1_delays"
   ]
  },
  {
   "cell_type": "code",
   "execution_count": null,
   "id": "054ea790-352e-4cb3-bd66-2804d9a78e40",
   "metadata": {},
   "outputs": [],
   "source": [
    "t1_exps = []\n",
    "qubits = [28, 3, 102, 54, 44, 9]\n",
    "\n",
    "for qubit in qubits:\n",
    "    \n",
    "    # Create the experiment for the qubit\n",
    "    exp = T1(physical_qubits=(qubit,),\n",
    "             delays=t1_delays,\n",
    "             backend=backend,)\n",
    "    \n",
    "    # Add it to our list of experiments\n",
    "    t1_exps.append(exp)\n",
    "\n",
    "parallel_t1_exp = ParallelExperiment(t1_exps, backend=backend,)"
   ]
  },
  {
   "cell_type": "code",
   "execution_count": null,
   "id": "1d592275-0b93-4814-bea6-0977d5a640f1",
   "metadata": {},
   "outputs": [],
   "source": [
    "parallel_t1_exp.set_transpile_options(scheduling_method='asap',\n",
    "                                      target=backend.target)\n",
    "\n",
    "t1_data = parallel_t1_exp.run(backend=backend)"
   ]
  },
  {
   "cell_type": "code",
   "execution_count": null,
   "id": "e5cd6359-4a9f-4b78-b9e0-8e0012280173",
   "metadata": {},
   "outputs": [],
   "source": [
    "t1_data.job_status()"
   ]
  },
  {
   "cell_type": "code",
   "execution_count": null,
   "id": "139b51e1-26ec-465f-808e-95c30b4f11a6",
   "metadata": {},
   "outputs": [],
   "source": [
    "t1_data.figure(2)"
   ]
  },
  {
   "cell_type": "markdown",
   "id": "2ed8ef9b-515d-44b1-8501-59e2d4aff4c5",
   "metadata": {},
   "source": [
    "## $T_2$"
   ]
  },
  {
   "cell_type": "code",
   "execution_count": null,
   "id": "9627ac58-83c4-4344-b682-adca0009ee2a",
   "metadata": {},
   "outputs": [],
   "source": [
    "t2_delays = np.linspace(0.0, 250.0, 26)*1e-6\n",
    "t2_delays"
   ]
  },
  {
   "cell_type": "code",
   "execution_count": null,
   "id": "f9407125-4ab7-4688-a8b5-7cec4b2bea7d",
   "metadata": {},
   "outputs": [],
   "source": [
    "t2_exps = []\n",
    "qubits = [28, 3, 102, 54, 44, 9]\n",
    "\n",
    "for qubit in qubits:\n",
    "    \n",
    "    # Create the experiment for the qubit\n",
    "    exp = T2Hahn(physical_qubits=(qubit,),\n",
    "                 delays=t2_delays,\n",
    "                 backend=backend,)\n",
    "    \n",
    "    # Add it to our list of experiments\n",
    "    t2_exps.append(exp)\n",
    "\n",
    "parallel_t2_exp = ParallelExperiment(t2_exps, backend=backend,)"
   ]
  },
  {
   "cell_type": "code",
   "execution_count": null,
   "id": "d8be8f5a-590f-4628-8ee1-d07543b18cc5",
   "metadata": {},
   "outputs": [],
   "source": [
    "parallel_t2_exp.set_transpile_options(scheduling_method='asap', target=backend.target)\n",
    "t2_data = parallel_t2_exp.run(backend=backend)"
   ]
  },
  {
   "cell_type": "code",
   "execution_count": null,
   "id": "46e3face-b1ab-499e-bb45-491fcb779632",
   "metadata": {},
   "outputs": [],
   "source": [
    "t2_data.job_status()"
   ]
  },
  {
   "cell_type": "code",
   "execution_count": null,
   "id": "60966274-cfbc-4be8-a8c4-5e5e9e4509a1",
   "metadata": {},
   "outputs": [],
   "source": [
    "t2_data.figure(1)"
   ]
  },
  {
   "cell_type": "markdown",
   "id": "734e58cc-02a3-4e69-811d-ca2f2c60f249",
   "metadata": {},
   "source": [
    "## $T_2^*$"
   ]
  },
  {
   "cell_type": "code",
   "execution_count": null,
   "id": "771ec365-7f10-4748-823c-863bfacb854e",
   "metadata": {},
   "outputs": [],
   "source": [
    "t2star_exps = []\n",
    "qubits = [28, 3, 102, 54, 44, 9]\n",
    "\n",
    "for qubit in qubits:\n",
    "    \n",
    "    # Create the experiment for the qubit\n",
    "    exp = T2Ramsey(physical_qubits=(qubit,),\n",
    "                   delays=t2_delays,\n",
    "                   backend=backend,\n",
    "                  osc_freq=5e6)\n",
    "    \n",
    "    # Add it to our list of experiments\n",
    "    t2star_exps.append(exp)\n",
    "\n",
    "parallel_t2star_exp = ParallelExperiment(t2star_exps, backend=backend,)"
   ]
  },
  {
   "cell_type": "code",
   "execution_count": null,
   "id": "bf3e4bd3-d5ec-4112-8404-a422df4a8aa8",
   "metadata": {},
   "outputs": [],
   "source": [
    "parallel_t2star_exp.set_transpile_options(scheduling_method='asap', target=backend.target)\n",
    "t2star_data = parallel_t2star_exp.run(backend=backend)"
   ]
  },
  {
   "cell_type": "code",
   "execution_count": null,
   "id": "ce0d229f-09eb-42cf-a1f8-f88626191d9c",
   "metadata": {},
   "outputs": [],
   "source": [
    "t2star_data.job_status()"
   ]
  },
  {
   "cell_type": "code",
   "execution_count": null,
   "id": "5786c36f-89d8-4929-839b-08714e381a71",
   "metadata": {},
   "outputs": [],
   "source": [
    "t2star_data.figure(3)"
   ]
  },
  {
   "cell_type": "markdown",
   "id": "e03bbc0b-0243-4780-93db-abacce68c3e1",
   "metadata": {},
   "source": [
    "## Layer Fidelity"
   ]
  },
  {
   "cell_type": "code",
   "execution_count": null,
   "id": "3d9467a5-0395-44c8-b739-e083152721d1",
   "metadata": {},
   "outputs": [],
   "source": [
    "num_qubits_in_chain = 10\n",
    "coupling_map = backend.target.build_coupling_map(twoq_gate)\n",
    "G = coupling_map.graph"
   ]
  },
  {
   "cell_type": "code",
   "execution_count": null,
   "id": "81c99b35-bfe8-4756-a3da-16ce4190175f",
   "metadata": {},
   "outputs": [],
   "source": [
    "def to_edges(path):\n",
    "    edges = []\n",
    "    prev_node = None\n",
    "    for node in path:\n",
    "        if prev_node is not None:\n",
    "            if G.has_edge(prev_node, node):\n",
    "                edges.append((prev_node, node))\n",
    "            else:\n",
    "                edges.append((node, prev_node))\n",
    "        prev_node = node\n",
    "    return edges\n",
    "\n",
    "\n",
    "def path_fidelity(path, correct_by_duration: bool = True, readout_scale: float = None):\n",
    "    \"\"\"Compute an estimate of the total fidelity of 2-qubit gates on a path.\n",
    "    If `correct_by_duration` is true, each gate fidelity is worsen by\n",
    "    scale = max_duration / duration, i.e. gate_fidelity^scale.\n",
    "    If `readout_scale` > 0 is supplied, readout_fidelity^readout_scale\n",
    "    for each qubit on the path is multiplied to the total fielity.\n",
    "    The path is given in node indices form, e.g. [0, 1, 2].\n",
    "    An external function `to_edges` is used to obtain edge list, e.g. [(0, 1), (1, 2)].\"\"\"\n",
    "    path_edges = to_edges(path)\n",
    "    max_duration = max(backend.target[twoq_gate][qs].duration for qs in path_edges)\n",
    "\n",
    "    def gate_fidelity(qpair):\n",
    "        duration = backend.target[twoq_gate][qpair].duration\n",
    "        scale = max_duration / duration if correct_by_duration else 1.0\n",
    "        # 1.25 = (d+1)/d) with d = 4\n",
    "        return max(0.25, 1 - (1.25 * backend.target[twoq_gate][qpair].error)) ** scale\n",
    "\n",
    "    def readout_fidelity(qubit):\n",
    "        return max(0.25, 1 - backend.target[\"measure\"][(qubit,)].error)\n",
    "\n",
    "    total_fidelity = np.prod([gate_fidelity(qs) for qs in path_edges])\n",
    "    if readout_scale:\n",
    "        total_fidelity *= np.prod([readout_fidelity(q) for q in path]) ** readout_scale\n",
    "    return total_fidelity\n",
    "\n",
    "\n",
    "def flatten(paths, cutoff=None):  # cutoff not to make run time too large\n",
    "    return [\n",
    "        path\n",
    "        for s, s_paths in paths.items()\n",
    "        for t, st_paths in s_paths.items()\n",
    "        for path in st_paths[:cutoff]\n",
    "        if s < t\n",
    "    ]"
   ]
  },
  {
   "cell_type": "code",
   "execution_count": null,
   "id": "974d5a89-e0ee-4fb8-b00b-bc90943aa97d",
   "metadata": {},
   "outputs": [],
   "source": [
    "paths = rx.all_pairs_all_simple_paths(\n",
    "    G.to_undirected(multigraph=False),\n",
    "    min_depth=num_qubits_in_chain,\n",
    "    cutoff=num_qubits_in_chain,\n",
    ")\n",
    "paths = flatten(paths, cutoff=400)\n",
    "if not paths:\n",
    "    raise Exception(\n",
    "        f\"No qubit chain with length={num_qubits_in_chain} exists in {backend.name}. Try smaller num_qubits_in_chain.\"\n",
    "    )\n",
    "\n",
    "print(f\"Selecting the best from {len(paths)} candidate paths (will take a few minutes)\")\n",
    "best_qubit_chain = max(paths, key=path_fidelity)\n",
    "# from functools import partial\n",
    "# best_qubit_chain = max(paths, key=partial(path_fidelity, correct_by_duration=True, readout_scale=1.0))\n",
    "assert len(best_qubit_chain) == num_qubits_in_chain\n",
    "print(f\"Predicted LF from reported 2q-gate EPGs: {path_fidelity(best_qubit_chain)}\")"
   ]
  },
  {
   "cell_type": "code",
   "execution_count": null,
   "id": "284f3fd2-9d98-41e7-9913-cd8fa9a892ef",
   "metadata": {},
   "outputs": [],
   "source": [
    "np.array(best_qubit_chain)"
   ]
  },
  {
   "cell_type": "code",
   "execution_count": null,
   "id": "5262274b-ba3e-4f2a-9054-e41d69160ffb",
   "metadata": {},
   "outputs": [],
   "source": [
    "# decompose the chain into two disjoint layers\n",
    "all_pairs = to_edges(best_qubit_chain)\n",
    "two_disjoint_layers = [all_pairs[0::2], all_pairs[1::2]]\n",
    "two_disjoint_layers"
   ]
  },
  {
   "cell_type": "code",
   "execution_count": null,
   "id": "7abae490-8319-4019-b192-5ef2d9959986",
   "metadata": {},
   "outputs": [],
   "source": [
    "%%time\n",
    "lfexp = LayerFidelity(\n",
    "    physical_qubits=best_qubit_chain,\n",
    "    two_qubit_layers=two_disjoint_layers,\n",
    "    lengths=[2, 4, 8, 16, 24, 32, 48, 64, 72, 96, 128, 160, 192, 256, 320, 512],\n",
    "    backend=backend,\n",
    "    num_samples=32,\n",
    "    seed=42,\n",
    "    # two_qubit_gate=\"ecr\",\n",
    "    # one_qubit_basis_gates=[\"rz\", \"sx\", \"x\"],\n",
    ")\n"
   ]
  },
  {
   "cell_type": "code",
   "execution_count": null,
   "id": "fa429cb9-14b8-4f32-83d4-01521e3a332e",
   "metadata": {},
   "outputs": [],
   "source": [
    "# set maximum number of circuits per job to avoid errors due to too large payload\n",
    "lfexp.experiment_options.max_circuits = 144"
   ]
  },
  {
   "cell_type": "code",
   "execution_count": null,
   "id": "6b5dbe12-1edd-4993-9e75-b4e53368e572",
   "metadata": {},
   "outputs": [],
   "source": [
    "print(f\"Two Qubit Gate: {lfexp.experiment_options.two_qubit_gate}\")\n",
    "print(f\"One Qubit Gate Set: {lfexp.experiment_options.one_qubit_basis_gates}\")"
   ]
  },
  {
   "cell_type": "code",
   "execution_count": null,
   "id": "25733b74-f38e-4a8e-bc28-f69684e9f16f",
   "metadata": {},
   "outputs": [],
   "source": [
    "%%time\n",
    "# look at one of the first three 2Q direct RB circuits quickly\n",
    "circ_iter = lfexp.circuits_generator()\n",
    "first_three_circuits = list(next(circ_iter) for _ in range(3))\n",
    "first_three_circuits[1].draw(output=\"mpl\",\n",
    "                             style=\"clifford\", \n",
    "                             idle_wires=False, \n",
    "                             fold=-1)"
   ]
  },
  {
   "cell_type": "code",
   "execution_count": null,
   "id": "65821fb1-b973-4105-a2a8-c480a0d1c472",
   "metadata": {},
   "outputs": [],
   "source": [
    "%%time\n",
    "# generate all circuits to run\n",
    "circuits = lfexp.circuits()\n",
    "print(f\"{len(circuits)} circuits are generated.\")"
   ]
  },
  {
   "cell_type": "code",
   "execution_count": null,
   "id": "572c3a84-49fa-477c-a579-e6dd78502f1a",
   "metadata": {},
   "outputs": [],
   "source": [
    "%%time\n",
    "# number of shots per job\n",
    "nshots = 1024\n",
    "\n",
    "# Run the LF experiment (generate circuits and submit the job)\n",
    "exp_data = lfexp.run(shots=nshots)\n",
    "# exp_data.auto_save = True\n",
    "print(f\"Run experiment: ID={exp_data.experiment_id} with jobs {exp_data.job_ids}]\")"
   ]
  },
  {
   "cell_type": "code",
   "execution_count": null,
   "id": "5d33634d-0b75-403f-820d-796d85607082",
   "metadata": {},
   "outputs": [],
   "source": [
    "df = exp_data.analysis_results(dataframe=True)"
   ]
  },
  {
   "cell_type": "code",
   "execution_count": null,
   "id": "5e189340-876a-4c35-a429-07cff52950ca",
   "metadata": {},
   "outputs": [],
   "source": [
    "df[(df.name == \"ProcessFidelity\")].head()"
   ]
  },
  {
   "cell_type": "code",
   "execution_count": null,
   "id": "f206bd47-1387-4eb9-8498-9fd55016952c",
   "metadata": {},
   "outputs": [],
   "source": [
    "for i in range(0, 5):\n",
    "    display(exp_data.figure(i))\n"
   ]
  },
  {
   "cell_type": "code",
   "execution_count": null,
   "id": "7d34b2ba-1fda-4f85-941d-e7b44339c21b",
   "metadata": {},
   "outputs": [],
   "source": [
    "pfdf = df[(df.name == \"ProcessFidelity\")]\n",
    "pfdf[pfdf.value < 0.8]"
   ]
  },
  {
   "cell_type": "code",
   "execution_count": null,
   "id": "e54db077-cf94-441e-9cd7-67a28ce6566e",
   "metadata": {},
   "outputs": [],
   "source": [
    "# find bad quality analysis results\n",
    "pfdf[pfdf.quality == \"bad\"]"
   ]
  },
  {
   "cell_type": "code",
   "execution_count": null,
   "id": "258d866b-10b0-4b35-84e9-9800427a6356",
   "metadata": {},
   "outputs": [],
   "source": [
    "# fill Process Fidelity values with zeros\n",
    "pfdf = pfdf.fillna({\"value\": 0})"
   ]
  },
  {
   "cell_type": "code",
   "execution_count": null,
   "id": "238e471e-d172-447d-b0cf-d0d5b7027ebd",
   "metadata": {},
   "outputs": [],
   "source": [
    "\n",
    "\n",
    "# Compute LF by chain length assuming the first layer is full with 2q-gates\n",
    "lf_sets, lf_qubits = two_disjoint_layers, best_qubit_chain\n",
    "full_layer = [None] * (len(lf_sets[0]) + len(lf_sets[1]))\n",
    "full_layer[::2] = lf_sets[0]\n",
    "full_layer[1::2] = lf_sets[1]\n",
    "full_layer = [(lf_qubits[0],)] + full_layer + [(lf_qubits[-1],)]\n",
    "\n",
    "assert len(full_layer) == len(lf_qubits) + 1\n"
   ]
  },
  {
   "cell_type": "code",
   "execution_count": null,
   "id": "d585f8a7-86d9-4cab-bf0a-d6ab4b70544d",
   "metadata": {},
   "outputs": [],
   "source": [
    "pfs = [pfdf.loc[pfdf[pfdf.qubits == qubits].index[0], \"value\"] for qubits in full_layer]\n",
    "pfs = list(map(lambda x: x.n if x != 0 else 0, pfs))\n",
    "pfs[0] = pfs[0] ** 2\n",
    "pfs[-1] = pfs[-1] ** 2\n",
    "np.array(pfs)"
   ]
  },
  {
   "cell_type": "code",
   "execution_count": null,
   "id": "438d4ed1-260d-4e16-968a-6ca0052c23aa",
   "metadata": {},
   "outputs": [],
   "source": [
    "job = service.job(exp_data.job_ids[0])\n",
    "JOB_DATE = job.creation_date"
   ]
  },
  {
   "cell_type": "code",
   "execution_count": null,
   "id": "30793a5b-2c97-483d-a87a-fc4235a1c2e2",
   "metadata": {},
   "outputs": [],
   "source": [
    "# Approximate 1Q RB fidelities at both ends by the square root of 2Q RB fidelity at both ends.\n",
    "# For example, if we have [(0, 1), (1, 2), (2, 3), (3, 4)] 2Q RB fidelities and if we want to compute a layer fidelity for [1, 2, 3],\n",
    "# we approximate the 1Q filedities for (1,) and (3,) by the square root of 2Q fidelities of (0, 1) and (3, 4).\n",
    "chain_lens = list(range(4, len(pfs), 2))\n",
    "chain_fids = []\n",
    "for length in chain_lens:\n",
    "    w = length + 1  # window size\n",
    "    fid_w = max(\n",
    "        np.sqrt(pfs[s]) * np.prod(pfs[s + 1 : s + w - 1]) * np.sqrt(pfs[s + w - 1])\n",
    "        for s in range(len(pfs) - w + 1)\n",
    "    )\n",
    "    chain_fids.append(fid_w)"
   ]
  },
  {
   "cell_type": "code",
   "execution_count": null,
   "id": "80459437-4dd1-4c71-a7e3-4af706303803",
   "metadata": {},
   "outputs": [],
   "source": [
    "# Plot LF by chain length\n",
    "plt.title(f\"Backend: {backend.name}, {JOB_DATE.strftime('%Y/%m/%d %H:%M')}\")\n",
    "plt.plot(\n",
    "    chain_lens,\n",
    "    chain_fids,\n",
    "    marker=\"o\",\n",
    "    linestyle=\"-\",\n",
    ")\n",
    "plt.xlim(0, chain_lens[-1] * 1.05)\n",
    "plt.ylim(0.95 * min(chain_fids), 1)\n",
    "plt.ylabel(\"Layer Fidelity\")\n",
    "plt.xlabel(\"Chain Length\")\n",
    "plt.grid()\n",
    "plt.show()"
   ]
  },
  {
   "cell_type": "code",
   "execution_count": null,
   "id": "25434a42-5443-4ee6-92d8-068c9c988f32",
   "metadata": {},
   "outputs": [],
   "source": [
    "# Plot EPLG by chain length\n",
    "num_2q_gates = [length - 1 for length in chain_lens]\n",
    "chain_eplgs = [\n",
    "    1 - (fid ** (1 / num_2q)) for num_2q, fid in zip(num_2q_gates, chain_fids)\n",
    "]\n",
    "plt.title(f\"Backend: {backend.name}, {JOB_DATE.strftime('%Y/%m/%d %H:%M')}\")\n",
    "plt.plot(\n",
    "    chain_lens,\n",
    "    chain_eplgs,\n",
    "    marker=\"o\",\n",
    "    linestyle=\"-\",\n",
    ")\n",
    "plt.xlim(0, chain_lens[-1] * 1.05)\n",
    "plt.ylabel(\"Error per Layered Gates\")\n",
    "plt.xlabel(\"Chain Length\")\n",
    "plt.grid()\n",
    "plt.show()"
   ]
  }
 ],
 "metadata": {
  "kernelspec": {
   "display_name": "Python 3 (ipykernel)",
   "language": "python",
   "name": "python3"
  },
  "language_info": {
   "codemirror_mode": {
    "name": "ipython",
    "version": 3
   },
   "file_extension": ".py",
   "mimetype": "text/x-python",
   "name": "python",
   "nbconvert_exporter": "python",
   "pygments_lexer": "ipython3",
   "version": "3.12.4"
  }
 },
 "nbformat": 4,
 "nbformat_minor": 5
}
